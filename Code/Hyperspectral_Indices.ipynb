{
 "cells": [
  {
   "cell_type": "markdown",
   "metadata": {},
   "source": [
    "# RSDI 2018 Capstone Project\n",
    "## Harvard Forest Species Identification\n",
    "\n",
    "### Spectral Indices Calculations Notebook\n",
    "Christopher Kilner\n",
    "christopher.kilner@duke.edu\n",
    "July 13, 2018\n",
    "\n",
    "*If in other sciences, we should arrive at certainty without doubt and thruth without error, it behooves us to place the foundations of knowledge in Mathematics*"
   ]
  },
  {
   "cell_type": "code",
   "execution_count": 1,
   "metadata": {},
   "outputs": [],
   "source": [
    "#Install/Import necessary packages\n",
    "import h5py\n",
    "import numpy as np\n",
    "import gdal\n",
    "import os\n",
    "import matplotlib.pyplot as plt\n",
    "from math import floor\n",
    "from copy import copy\n",
    "import warnings\n",
    "warnings.filterwarnings('ignore')"
   ]
  },
  {
   "cell_type": "code",
   "execution_count": 2,
   "metadata": {},
   "outputs": [],
   "source": [
    "#Define necessary functions\n",
    "def h5refl2array(h5_filename):\n",
    "    hdf5_file = h5py.File(h5_filename,'r')\n",
    "\n",
    "    #Get the site name\n",
    "    file_attrs_string = str(list(hdf5_file.items()))\n",
    "    file_attrs_string_split = file_attrs_string.split(\"'\")\n",
    "    sitename = file_attrs_string_split[1]\n",
    "    refl = hdf5_file[sitename]['Reflectance']\n",
    "    reflArray = refl['Reflectance_Data']\n",
    "    refl_shape = reflArray.shape\n",
    "    wavelengths = refl['Metadata']['Spectral_Data']['Wavelength']\n",
    "    #Create dictionary containing relevant metadata information\n",
    "    metadata = {}\n",
    "    metadata['shape'] = reflArray.shape\n",
    "    metadata['mapInfo'] = refl['Metadata']['Coordinate_System']['Map_Info']\n",
    "    #Extract no data value & set no data value to NaN\\n\",\n",
    "    metadata['scaleFactor'] = float(reflArray.attrs['Scale_Factor'])\n",
    "    metadata['noDataVal'] = float(reflArray.attrs['Data_Ignore_Value'])\n",
    "    metadata['bad_band_window1'] = (refl.attrs['Band_Window_1_Nanometers'])\n",
    "    metadata['bad_band_window2'] = (refl.attrs['Band_Window_2_Nanometers'])\n",
    "    metadata['projection'] = refl['Metadata']['Coordinate_System']['Proj4'].value\n",
    "    metadata['EPSG'] = int(refl['Metadata']['Coordinate_System']['EPSG Code'].value)\n",
    "    mapInfo = refl['Metadata']['Coordinate_System']['Map_Info'].value\n",
    "    metadata['wavelength'] = refl['Metadata']['Spectral_Data']['Wavelength'].value\n",
    "\n",
    "    mapInfo_string = str(mapInfo); #print('Map Info:',mapInfo_string)\\n\",\n",
    "    mapInfo_split = mapInfo_string.split(\",\")\n",
    "    #Extract the resolution & convert to floating decimal number\n",
    "    metadata['res'] = {}\n",
    "    metadata['res']['pixelWidth'] = mapInfo_split[5]\n",
    "    metadata['res']['pixelHeight'] = mapInfo_split[6]\n",
    "    #Extract the upper left-hand corner coordinates from mapInfo\\n\",\n",
    "    xMin = float(mapInfo_split[3]) #convert from string to floating point number\\n\",\n",
    "    yMax = float(mapInfo_split[4])\n",
    "    #Calculate the xMax and yMin values from the dimensions\\n\",\n",
    "    #xMax = left edge + (# of columns * resolution)\\n\",\n",
    "    xMax = xMin + (refl_shape[1]*float(metadata['res']['pixelWidth'])) \n",
    "    #yMin = top edge - (# of rows * resolution)\\n\",\n",
    "    yMin = yMax - (refl_shape[0]*float(metadata['res']['pixelHeight'])) \n",
    "    metadata['extent'] = (xMin,xMax,yMin,yMax),\n",
    "    metadata['ext_dict'] = {}\n",
    "    metadata['ext_dict']['xMin'] = xMin\n",
    "    metadata['ext_dict']['xMax'] = xMax\n",
    "    metadata['ext_dict']['yMin'] = yMin\n",
    "    metadata['ext_dict']['yMax'] = yMax\n",
    "    hdf5_file.close        \n",
    "    return reflArray, metadata, wavelengths\n",
    "\n",
    "#Raster to Array\n",
    "def array2raster(newRasterfn,rasterOrigin,pixelWidth,pixelHeight,array,epsg):\n",
    "\n",
    "    cols = array.shape[1]\n",
    "    rows = array.shape[0]\n",
    "    originX = rasterOrigin[0]\n",
    "    originY = rasterOrigin[1]\n",
    "\n",
    "    driver = gdal.GetDriverByName('GTiff')\n",
    "    outRaster = driver.Create(newRasterfn, cols, rows, 1, gdal.GDT_Float32)\n",
    "    outRaster.SetGeoTransform((originX, pixelWidth, 0, originY, 0, pixelHeight))\n",
    "    outband = outRaster.GetRasterBand(1)\n",
    "    outband.WriteArray(array)\n",
    "    outRasterSRS = osr.SpatialReference()\n",
    "    outRasterSRS.ImportFromEPSG(epsg)\n",
    "    outRaster.SetProjection(outRasterSRS.ExportToWkt())\n",
    "    outband.FlushCache()\n",
    "    \n",
    "def h5_file_to_clean_raster(h5_file_path):\n",
    "    #h5_file_path =data_dir + h5_file\n",
    "    #f = h5py.File(h5_file_path, 'r')\n",
    "    #read the file as array and metadata\n",
    "    siteRefl,siteMetadata,wavelengths=h5refl2array(h5_file_path)\n",
    "    \n",
    "    #filtering out band bands\n",
    "    w = copy(siteMetadata['wavelength'])\n",
    "    w[((w>=1340)&(w<=1445))|((w>=1790)&(w<=1955))]=np.nan\n",
    "    w[-10:]=np.nan\n",
    "    \n",
    "    #siteMetadata['wavelength'] = w\n",
    "\n",
    "    # good bands\n",
    "    goodbands = np.concatenate(np.where(np.invert(np.isnan(w))))\n",
    "    \n",
    "    # slicing the array to only goodbands\n",
    "    cleanRefl = siteRefl[:,:,goodbands]\n",
    "#    cleanRefl[np.where(cleanRefl==0)]=np.nan\n",
    "    wavelengths =w[np.where(np.invert(np.isnan(w)))]\n",
    "    return cleanRefl, siteMetadata, goodbands, wavelengths"
   ]
  },
  {
   "cell_type": "code",
   "execution_count": 3,
   "metadata": {},
   "outputs": [],
   "source": [
    "#Read in and confirm through exploration the Clean Hyperspectral Data\n",
    "h5_directory = '../data/hyperspectral/'\n",
    "all_files = os.listdir(h5_directory)\n",
    "h5_files = [i for i in all_files if i.endswith('.h5')]"
   ]
  },
  {
   "cell_type": "code",
   "execution_count": 4,
   "metadata": {},
   "outputs": [
    {
     "data": {
      "text/plain": [
       "['NEON_D01_HARV_DP3_732000_4703000_reflectance.h5']"
      ]
     },
     "execution_count": 4,
     "metadata": {},
     "output_type": "execute_result"
    }
   ],
   "source": [
    "h5_files"
   ]
  },
  {
   "cell_type": "code",
   "execution_count": 44,
   "metadata": {},
   "outputs": [
    {
     "name": "stdout",
     "output_type": "stream",
     "text": [
      "Working on NEON_D01_HARV_DP3_732000_4703000_reflectance.h5\n",
      "Counter (f): 0\n"
     ]
    },
    {
     "ename": "ValueError",
     "evalue": "expected array of dim 2",
     "output_type": "error",
     "traceback": [
      "\u001b[0;31m---------------------------------------------------------------------------\u001b[0m",
      "\u001b[0;31mValueError\u001b[0m                                Traceback (most recent call last)",
      "\u001b[0;32m<ipython-input-44-b43a775b8442>\u001b[0m in \u001b[0;36m<module>\u001b[0;34m()\u001b[0m\n\u001b[1;32m     55\u001b[0m     \u001b[0mENVI_Indices\u001b[0m\u001b[0;34m[\u001b[0m\u001b[0;34m:\u001b[0m\u001b[0;34m,\u001b[0m\u001b[0;34m:\u001b[0m\u001b[0;34m,\u001b[0m\u001b[0;36m6\u001b[0m\u001b[0;34m]\u001b[0m \u001b[0;34m=\u001b[0m \u001b[0;34m(\u001b[0m\u001b[0;36m1.5\u001b[0m\u001b[0;34m*\u001b[0m\u001b[0;34m(\u001b[0m\u001b[0mNIR\u001b[0m \u001b[0;34m-\u001b[0m \u001b[0mRed\u001b[0m\u001b[0;34m)\u001b[0m\u001b[0;34m)\u001b[0m\u001b[0;34m/\u001b[0m\u001b[0;34m(\u001b[0m\u001b[0mNIR\u001b[0m \u001b[0;34m+\u001b[0m \u001b[0mRed\u001b[0m \u001b[0;34m+\u001b[0m \u001b[0;36m0.5\u001b[0m\u001b[0;34m)\u001b[0m\u001b[0;34m\u001b[0m\u001b[0m\n\u001b[1;32m     56\u001b[0m \u001b[0;34m\u001b[0m\u001b[0m\n\u001b[0;32m---> 57\u001b[0;31m     \u001b[0marray2raster\u001b[0m\u001b[0;34m(\u001b[0m\u001b[0;34m'../data/output/ENVI_Index_'\u001b[0m\u001b[0;34m+\u001b[0m\u001b[0;34m'.tif'\u001b[0m\u001b[0;34m,\u001b[0m\u001b[0;34m(\u001b[0m\u001b[0mxMin\u001b[0m\u001b[0;34m,\u001b[0m\u001b[0myMax\u001b[0m\u001b[0;34m)\u001b[0m\u001b[0;34m,\u001b[0m\u001b[0;36m1\u001b[0m\u001b[0;34m,\u001b[0m\u001b[0;34m-\u001b[0m\u001b[0;36m1\u001b[0m\u001b[0;34m,\u001b[0m\u001b[0mnp\u001b[0m\u001b[0;34m.\u001b[0m\u001b[0marray\u001b[0m\u001b[0;34m(\u001b[0m\u001b[0mENVI_Indices\u001b[0m\u001b[0;34m,\u001b[0m\u001b[0mdtype\u001b[0m\u001b[0;34m=\u001b[0m\u001b[0mfloat\u001b[0m\u001b[0;34m)\u001b[0m\u001b[0;34m,\u001b[0m\u001b[0mEPSG\u001b[0m\u001b[0;34m)\u001b[0m\u001b[0;34m\u001b[0m\u001b[0m\n\u001b[0m\u001b[1;32m     58\u001b[0m     \u001b[0marray2raster\u001b[0m\u001b[0;34m(\u001b[0m\u001b[0;34m'../data/output/Clean_'\u001b[0m\u001b[0;34m+\u001b[0m\u001b[0;34m'.tif'\u001b[0m\u001b[0;34m,\u001b[0m\u001b[0;34m(\u001b[0m\u001b[0mxMin\u001b[0m\u001b[0;34m,\u001b[0m\u001b[0myMax\u001b[0m\u001b[0;34m)\u001b[0m\u001b[0;34m,\u001b[0m\u001b[0;36m1\u001b[0m\u001b[0;34m,\u001b[0m\u001b[0;34m-\u001b[0m\u001b[0;36m1\u001b[0m\u001b[0;34m,\u001b[0m\u001b[0mnp\u001b[0m\u001b[0;34m.\u001b[0m\u001b[0marray\u001b[0m\u001b[0;34m(\u001b[0m\u001b[0mreflArray\u001b[0m\u001b[0;34m,\u001b[0m\u001b[0mdtype\u001b[0m\u001b[0;34m=\u001b[0m\u001b[0mfloat\u001b[0m\u001b[0;34m)\u001b[0m\u001b[0;34m,\u001b[0m\u001b[0mEPSG\u001b[0m\u001b[0;34m)\u001b[0m\u001b[0;34m\u001b[0m\u001b[0m\n\u001b[1;32m     59\u001b[0m \u001b[0;34m\u001b[0m\u001b[0m\n",
      "\u001b[0;32m<ipython-input-2-61b27751abfa>\u001b[0m in \u001b[0;36marray2raster\u001b[0;34m(newRasterfn, rasterOrigin, pixelWidth, pixelHeight, array, epsg)\u001b[0m\n\u001b[1;32m     60\u001b[0m     \u001b[0moutRaster\u001b[0m\u001b[0;34m.\u001b[0m\u001b[0mSetGeoTransform\u001b[0m\u001b[0;34m(\u001b[0m\u001b[0;34m(\u001b[0m\u001b[0moriginX\u001b[0m\u001b[0;34m,\u001b[0m \u001b[0mpixelWidth\u001b[0m\u001b[0;34m,\u001b[0m \u001b[0;36m0\u001b[0m\u001b[0;34m,\u001b[0m \u001b[0moriginY\u001b[0m\u001b[0;34m,\u001b[0m \u001b[0;36m0\u001b[0m\u001b[0;34m,\u001b[0m \u001b[0mpixelHeight\u001b[0m\u001b[0;34m)\u001b[0m\u001b[0;34m)\u001b[0m\u001b[0;34m\u001b[0m\u001b[0m\n\u001b[1;32m     61\u001b[0m     \u001b[0moutband\u001b[0m \u001b[0;34m=\u001b[0m \u001b[0moutRaster\u001b[0m\u001b[0;34m.\u001b[0m\u001b[0mGetRasterBand\u001b[0m\u001b[0;34m(\u001b[0m\u001b[0;36m1\u001b[0m\u001b[0;34m)\u001b[0m\u001b[0;34m\u001b[0m\u001b[0m\n\u001b[0;32m---> 62\u001b[0;31m     \u001b[0moutband\u001b[0m\u001b[0;34m.\u001b[0m\u001b[0mWriteArray\u001b[0m\u001b[0;34m(\u001b[0m\u001b[0marray\u001b[0m\u001b[0;34m)\u001b[0m\u001b[0;34m\u001b[0m\u001b[0m\n\u001b[0m\u001b[1;32m     63\u001b[0m     \u001b[0moutRasterSRS\u001b[0m \u001b[0;34m=\u001b[0m \u001b[0mosr\u001b[0m\u001b[0;34m.\u001b[0m\u001b[0mSpatialReference\u001b[0m\u001b[0;34m(\u001b[0m\u001b[0;34m)\u001b[0m\u001b[0;34m\u001b[0m\u001b[0m\n\u001b[1;32m     64\u001b[0m     \u001b[0moutRasterSRS\u001b[0m\u001b[0;34m.\u001b[0m\u001b[0mImportFromEPSG\u001b[0m\u001b[0;34m(\u001b[0m\u001b[0mepsg\u001b[0m\u001b[0;34m)\u001b[0m\u001b[0;34m\u001b[0m\u001b[0m\n",
      "\u001b[0;32m~/anaconda3/envs/p35/lib/python3.5/site-packages/osgeo/gdal.py\u001b[0m in \u001b[0;36mWriteArray\u001b[0;34m(self, array, xoff, yoff, resample_alg, callback, callback_data)\u001b[0m\n\u001b[1;32m   2560\u001b[0m                                            \u001b[0mresample_alg\u001b[0m \u001b[0;34m=\u001b[0m \u001b[0mresample_alg\u001b[0m\u001b[0;34m,\u001b[0m\u001b[0;34m\u001b[0m\u001b[0m\n\u001b[1;32m   2561\u001b[0m                                            \u001b[0mcallback\u001b[0m \u001b[0;34m=\u001b[0m \u001b[0mcallback\u001b[0m\u001b[0;34m,\u001b[0m\u001b[0;34m\u001b[0m\u001b[0m\n\u001b[0;32m-> 2562\u001b[0;31m                                            callback_data = callback_data )\n\u001b[0m\u001b[1;32m   2563\u001b[0m \u001b[0;34m\u001b[0m\u001b[0m\n\u001b[1;32m   2564\u001b[0m     def GetVirtualMemArray(self, eAccess = gdalconst.GF_Read, xoff=0, yoff=0,\n",
      "\u001b[0;32m~/anaconda3/envs/p35/lib/python3.5/site-packages/osgeo/gdal_array.py\u001b[0m in \u001b[0;36mBandWriteArray\u001b[0;34m(band, array, xoff, yoff, resample_alg, callback, callback_data)\u001b[0m\n\u001b[1;32m    370\u001b[0m \u001b[0;34m\u001b[0m\u001b[0m\n\u001b[1;32m    371\u001b[0m     \u001b[0;32mif\u001b[0m \u001b[0marray\u001b[0m \u001b[0;32mis\u001b[0m \u001b[0;32mNone\u001b[0m \u001b[0;32mor\u001b[0m \u001b[0mlen\u001b[0m\u001b[0;34m(\u001b[0m\u001b[0marray\u001b[0m\u001b[0;34m.\u001b[0m\u001b[0mshape\u001b[0m\u001b[0;34m)\u001b[0m \u001b[0;34m!=\u001b[0m \u001b[0;36m2\u001b[0m\u001b[0;34m:\u001b[0m\u001b[0;34m\u001b[0m\u001b[0m\n\u001b[0;32m--> 372\u001b[0;31m         \u001b[0;32mraise\u001b[0m \u001b[0mValueError\u001b[0m\u001b[0;34m(\u001b[0m\u001b[0;34m\"expected array of dim 2\"\u001b[0m\u001b[0;34m)\u001b[0m\u001b[0;34m\u001b[0m\u001b[0m\n\u001b[0m\u001b[1;32m    373\u001b[0m \u001b[0;34m\u001b[0m\u001b[0m\n\u001b[1;32m    374\u001b[0m     \u001b[0mxsize\u001b[0m \u001b[0;34m=\u001b[0m \u001b[0marray\u001b[0m\u001b[0;34m.\u001b[0m\u001b[0mshape\u001b[0m\u001b[0;34m[\u001b[0m\u001b[0;36m1\u001b[0m\u001b[0;34m]\u001b[0m\u001b[0;34m\u001b[0m\u001b[0m\n",
      "\u001b[0;31mValueError\u001b[0m: expected array of dim 2"
     ]
    }
   ],
   "source": [
    "#Spectral Indice Definitions\n",
    "wBlue = 470\n",
    "wRed = 650\n",
    "wGreen = 550\n",
    "wNIR = 860\n",
    "wPRI1 = 531\n",
    "wPRI2 = 570\n",
    "wLignin2 = 1754\n",
    "wLigninNitro = 1680\n",
    "wNitro1 = 1510\n",
    "Gamma = 1\n",
    "\n",
    "#For loop for multiple tiles\n",
    "for f, file in enumerate(h5_files): \n",
    "    print('Working on ' + file)\n",
    "    print('Counter (f): ' + str(f))\n",
    "    \n",
    " #   reflArray, metadata, wavelengths = h5refl2array(h5_directory+file)\n",
    "    reflArray, metadata, goodbands, wavelengths = h5_file_to_clean_raster(h5_directory+file)\n",
    "    \n",
    "    Index_Blue = np.where(np.amin(np.abs(np.subtract(wavelengths,wBlue))) == (np.abs(np.subtract(wavelengths,wBlue))))[0][0]\n",
    "    Index_Red = np.where(np.amin(np.abs(np.subtract(wavelengths,wRed))) == (np.abs(np.subtract(wavelengths,wRed))))[0][0]\n",
    "    Index_Green = np.where(np.amin(np.abs(np.subtract(wavelengths,wGreen))) == (np.abs(np.subtract(wavelengths,wGreen))))[0][0]\n",
    "    Index_NIR = np.where(np.amin(np.abs(np.subtract(wavelengths,wNIR))) == (np.abs(np.subtract(wavelengths,wNIR))))[0][0]\n",
    "    Index_PRI1 = np.where(np.amin(np.abs(np.subtract(wavelengths,wPRI1))) == (np.abs(np.subtract(wavelengths,wPRI1))))[0][0]\n",
    "    Index_PRI2 = np.where(np.amin(np.abs(np.subtract(wavelengths,wPRI2))) == (np.abs(np.subtract(wavelengths,wPRI2))))[0][0]\n",
    "    Index_Lignin2 = np.where(np.amin(np.abs(np.subtract(wavelengths,wLignin2))) == (np.abs(np.subtract(wavelengths,wLignin2))))[0][0]\n",
    "    Index_LigninNitro = np.where(np.amin(np.abs(np.subtract(wavelengths,wLigninNitro))) == (np.abs(np.subtract(wavelengths,wLigninNitro))))[0][0]\n",
    "    Index_Nitro1 = np.where(np.amin(np.abs(np.subtract(wavelengths,wNitro1))) == (np.abs(np.subtract(wavelengths,wNitro1))))[0][0]\n",
    "    \n",
    "    Blue = reflArray[:,:,Index_Blue]\n",
    "    Red = reflArray[:,:,Index_Red]\n",
    "    Green = reflArray[:,:,Index_Green]\n",
    "    NIR = reflArray[:,:,Index_NIR]\n",
    "    PRI1 = reflArray[:,:,Index_PRI1]\n",
    "    PRI2 = reflArray[:,:,Index_PRI2]\n",
    "    Lignin2 = reflArray[:,:,Index_Lignin2]\n",
    "    LigNitro = reflArray[:,:,Index_LigninNitro]\n",
    "    Nitro1 = reflArray[:,:,Index_Nitro1]\n",
    "    \n",
    "    ENVI_Indices = np.zeros((reflArray.shape[0], reflArray.shape[1], 7))\n",
    "    \n",
    "    xMin = metadata['ext_dict']['xMin']\n",
    "    yMax = metadata['ext_dict']['yMax']\n",
    "    EPSG = metadata['EPSG']\n",
    "\n",
    "\n",
    "    #Spectral Indice Calculations\n",
    "    ENVI_Indices[:,:,0] = (NIR - Red)/(NIR + Red)\n",
    "    ENVI_Indices[:,:,1] = 2.5*((NIR-Red)/(NIR + (6*Red)-(7*Blue)+1))\n",
    "    ENVI_Indices[:,:,2] = (NIR - (Red - Gamma*(Blue - Red)))/(NIR + (Red - Gamma*(Blue - Red)))\n",
    "    ENVI_Indices[:,:,3] = (PRI1 - PRI2)/(PRI1 + PRI2)\n",
    "    ENVI_Indices[:,:,4] = (np.log(1/Lignin2)-np.log(1/LigNitro))/(np.log(1/Lignin2)+np.log(1/LigNitro))\n",
    "    ENVI_Indices[:,:,5] = (np.log(1/Nitro1)-np.log(1/LigNitro))/(np.log(1/Nitro1)+np.log(1/LigNitro))\n",
    "    ENVI_Indices[:,:,6] = (1.5*(NIR - Red))/(NIR + Red + 0.5)\n",
    "    \n",
    "    array2raster('../data/output/ENVI_Index_'+'.tif',(xMin,yMax),1,-1,np.array(ENVI_Indices,dtype=float),EPSG)\n",
    "    array2raster('../data/output/Clean_'+'.tif',(xMin,yMax),1,-1,np.array(reflArray,dtype=float),EPSG)\n",
    "    \n",
    "    "
   ]
  },
  {
   "cell_type": "code",
   "execution_count": null,
   "metadata": {},
   "outputs": [],
   "source": []
  }
 ],
 "metadata": {
  "kernelspec": {
   "display_name": "Python 3.5 NEON-RSDI",
   "language": "python",
   "name": "p35"
  },
  "language_info": {
   "codemirror_mode": {
    "name": "ipython",
    "version": 3
   },
   "file_extension": ".py",
   "mimetype": "text/x-python",
   "name": "python",
   "nbconvert_exporter": "python",
   "pygments_lexer": "ipython3",
   "version": "3.5.5"
  }
 },
 "nbformat": 4,
 "nbformat_minor": 2
}
